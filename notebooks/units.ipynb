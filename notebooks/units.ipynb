{
 "cells": [
  {
   "cell_type": "code",
   "execution_count": 1,
   "metadata": {},
   "outputs": [],
   "source": [
    "import os\n",
    "import pandas as pd\n",
    "\n",
    "DATAPATH = \"../../chembl_data\" # change for your path to data\n",
    "CONFIGPATH = \"../config\""
   ]
  },
  {
   "attachments": {},
   "cell_type": "markdown",
   "metadata": {},
   "source": [
    "# Get units to standardise\n",
    "Get all the units used in the assays to standardise them according to UCUM guides.\n",
    "\n",
    "If pathogens siginificantly different from the example pathogens in config/pathogens.csv, the user migth want to revise the units manually"
   ]
  },
  {
   "cell_type": "code",
   "execution_count": 10,
   "metadata": {},
   "outputs": [],
   "source": [
    "allunits = []\n",
    "\n",
    "pathogen_list = pd.read_csv(os.path.join(CONFIGPATH, \"pathogens.csv\"))[\"pathogen_code\"].tolist()\n",
    "for p in pathogen_list:\n",
    "    df = pd.read_csv(os.path.join(DATAPATH, f\"{p}\", f\"{p}_original.csv\"), low_memory=False)\n",
    "    units = list(set(df[\"standard_units\"]))\n",
    "    allunits.extend(units)\n",
    "allunits = list(set(allunits))\n",
    "allunits = sorted(map(str, allunits))\n",
    "df = pd.DataFrame({\"units\": allunits})\n",
    "df.to_csv(os.path.join(CONFIGPATH, \"units.csv\"), index=False) #this file will be processed manually in the UCUM website: https://ucum.nlm.nih.gov/ucum-lhc/demo.html"
   ]
  },
  {
   "cell_type": "code",
   "execution_count": 23,
   "metadata": {},
   "outputs": [],
   "source": [
    "#obtain ChEMBL IDs of specific assays to check in ChEMBL database\n",
    "for p in pathogen_list:\n",
    "    df = pd.read_csv(os.path.join(DATAPATH, f\"{p}\", f\"{p}_original.csv\"), low_memory=False)\n",
    "    ch_id =  df.loc[df[\"standard_type\"] == \"Percent Effect\", \"assay_chembl_id\"].values\n",
    "    if len(ch_id) > 0:\n",
    "        print(p)\n",
    "        print(set(ch_id))"
   ]
  },
  {
   "cell_type": "code",
   "execution_count": 29,
   "metadata": {},
   "outputs": [
    {
     "name": "stdout",
     "output_type": "stream",
     "text": [
      "saureus\n",
      "{'CHEMBL731763'}\n"
     ]
    }
   ],
   "source": [
    "#obtain ChEMBL IDs of specific assay units to check in ChEMBL database\n",
    "for p in pathogen_list:\n",
    "    df = pd.read_csv(os.path.join(DATAPATH, f\"{p}\", f\"{p}_original.csv\"), low_memory=False)\n",
    "    ch_id =  df.loc[df[\"standard_units\"] == \"mM l-1\", \"assay_chembl_id\"].values\n",
    "    if len(ch_id) > 0:\n",
    "        print(p)\n",
    "        print(set(ch_id))"
   ]
  },
  {
   "attachments": {},
   "cell_type": "markdown",
   "metadata": {},
   "source": [
    "## Evaluate processed files to select relevant assays"
   ]
  },
  {
   "cell_type": "code",
   "execution_count": 90,
   "metadata": {},
   "outputs": [
    {
     "name": "stdout",
     "output_type": "stream",
     "text": [
      "calbicans\n",
      "campylobacter\n",
      "ecoli\n",
      "efaecium\n",
      "enterobacter\n",
      "hpylori\n",
      "kpneumoniae\n",
      "mtuberculosis\n",
      "ngonorrohoeae\n",
      "paeruginosa\n",
      "pfalciparum\n",
      "saureus\n",
      "smansoni\n",
      "spneumoniae\n"
     ]
    },
    {
     "data": {
      "text/plain": [
       "(2036217, 18)"
      ]
     },
     "execution_count": 90,
     "metadata": {},
     "output_type": "execute_result"
    }
   ],
   "source": [
    "dfs = []\n",
    "for p in pathogen_list:\n",
    "    print(p)\n",
    "    df = pd.read_csv(os.path.join(DATAPATH, f\"{p}\", f\"{p}_processed.csv\"), low_memory=False)\n",
    "    dfs += [df]\n",
    "df = pd.concat(dfs, ignore_index=True)\n",
    "df.shape"
   ]
  },
  {
   "cell_type": "code",
   "execution_count": 91,
   "metadata": {},
   "outputs": [],
   "source": [
    "df['final_unit'] = df['final_unit'].fillna('N/A')  \n",
    "au = df.groupby(['standard_type', 'final_unit']).size().reset_index(name='count')\n",
    "au_ = au[au[\"count\"]>250] #only assays with over 250 results will be considered\n",
    "au_.to_csv(os.path.join(CONFIGPATH,\"st_type_summary.csv\"), index=False) "
   ]
  },
  {
   "cell_type": "code",
   "execution_count": 97,
   "metadata": {},
   "outputs": [
    {
     "data": {
      "text/plain": [
       "(124, 7)"
      ]
     },
     "execution_count": 97,
     "metadata": {},
     "output_type": "execute_result"
    }
   ],
   "source": [
    "au = pd.read_csv(os.path.join(CONFIGPATH, \"st_type_summary_manual.csv\")) #DO NOT OVERWRITE THIS FILE\n",
    "au.shape"
   ]
  },
  {
   "cell_type": "code",
   "execution_count": 98,
   "metadata": {},
   "outputs": [
    {
     "data": {
      "text/plain": [
       "(1864605, 18)"
      ]
     },
     "execution_count": 98,
     "metadata": {},
     "output_type": "execute_result"
    }
   ],
   "source": [
    "#remove rows with Nan values to calculate the percentiles\n",
    "df_ = df[~df[\"final_value\"].isna()]\n",
    "df_.shape"
   ]
  },
  {
   "cell_type": "code",
   "execution_count": 99,
   "metadata": {},
   "outputs": [],
   "source": [
    "# Distribution of standard_value grouped by standard_type and standard_units\n",
    "df_perc = df_.groupby(['standard_type', 'final_unit'])['final_value']\\\n",
    "            .describe(percentiles=[0.05, 0.1, 0.2, 0.25, 0.50, 0.75, 0.8, 0.9, 0.95])\\\n",
    "            .drop(columns=['mean', 'std', 'min', 'max'])\\\n",
    "            .reset_index()\n",
    "\n",
    "# Show in alphabetical order (order case insensitive)\n",
    "df_perc.sort_values(by=['standard_type', 'final_unit'], key=lambda col: col.str.lower(), inplace=True)\n",
    "cols = ['standard_type', 'final_unit','5%', '10%', '20%', '25%',\n",
    "       '50%', '75%', '80%', '90%', '95%']\n",
    "merged_df = au.merge(df_perc[cols], on=['standard_type', 'final_unit'], how='left')\n",
    "merged_df.to_csv(os.path.join(CONFIGPATH, \"percentiles.csv\"), index=False)"
   ]
  }
 ],
 "metadata": {
  "kernelspec": {
   "display_name": "chembl",
   "language": "python",
   "name": "python3"
  },
  "language_info": {
   "codemirror_mode": {
    "name": "ipython",
    "version": 3
   },
   "file_extension": ".py",
   "mimetype": "text/x-python",
   "name": "python",
   "nbconvert_exporter": "python",
   "pygments_lexer": "ipython3",
   "version": "3.11.8"
  },
  "orig_nbformat": 4
 },
 "nbformat": 4,
 "nbformat_minor": 2
}
